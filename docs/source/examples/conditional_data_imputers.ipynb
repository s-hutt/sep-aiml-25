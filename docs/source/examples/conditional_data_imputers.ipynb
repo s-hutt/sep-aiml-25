{
 "cells": [
  {
   "metadata": {},
   "cell_type": "markdown",
   "source": "# Conditional Data Imputers",
   "id": "92ef41b6c7f5ef8"
  }
 ],
 "metadata": {
  "kernelspec": {
   "display_name": "Python 3",
   "language": "python",
   "name": "python3"
  },
  "language_info": {
   "codemirror_mode": {
    "name": "ipython",
    "version": 2
   },
   "file_extension": ".py",
   "mimetype": "text/x-python",
   "name": "python",
   "nbconvert_exporter": "python",
   "pygments_lexer": "ipython2",
   "version": "2.7.6"
  }
 },
 "nbformat": 4,
 "nbformat_minor": 5
}
