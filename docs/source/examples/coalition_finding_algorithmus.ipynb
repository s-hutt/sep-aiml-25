{
 "cells": [
  {
   "cell_type": "markdown",
   "id": "15444616891de067",
   "metadata": {},
   "source": "# Coalition-Finding Algorithmus"
  },
  {
   "cell_type": "markdown",
   "id": "1a2c526077a9f22",
   "metadata": {},
   "source": [
    "Dieses Notebook demonstriert die Nutzung des Algorithmus `subset_finding`, um Koalitionen von Features mit dem höchsten bzw. niedrigsten aggregierten Interaktionswert zu identifizieren.\n",
    "\n",
    "Als Grundlage dienen Interaktionswerte, die auf einem erklärbaren Modell basieren und mit Hilfe von Indizes wie `k-SII`, `STII` oder `FSII` berechnet wurden.\n",
    "\n",
    "Der zugrundeliegende Algorithmus basiert auf einer heuristischen Beam Search, die durch gezielte Vorauswahl vielversprechender Teilkoalitionen eine effiziente Suche in großen Feature-Räumen ermöglicht.\n",
    "\n",
    "\n",
    "\n"
   ]
  },
  {
   "cell_type": "markdown",
   "id": "2f1509452da215e5",
   "metadata": {},
   "source": [
    "## Vorbereitung: Imports\n",
    "\n",
    "Wir beginnen mit dem Import aller benötigten Module für Modellierung, Datenaufbereitung und den Koalitionsfindungs-Algorithmus.\n",
    "\n"
   ]
  },
  {
   "metadata": {
    "ExecuteTime": {
     "end_time": "2025-07-19T19:42:34.610846Z",
     "start_time": "2025-07-19T19:42:34.554990Z"
    }
   },
   "cell_type": "code",
   "source": [
    "# general imports\n",
    "import pandas as pd\n",
    "import numpy as np\n",
    "import matplotlib.pyplot as plt\n",
    "import seaborn as sns\n",
    "from shapiq import load_bike_sharing\n",
    "from shapiq import Explainer\n",
    "# sklearn imports\n",
    "from sklearn.model_selection import train_test_split\n",
    "from sklearn.linear_model import LinearRegression\n",
    "from sklearn.metrics import mean_squared_error, r2_score\n",
    "from sklearn.tree import DecisionTreeRegressor\n",
    "from sklearn.ensemble import RandomForestRegressor\n",
    "from sklearn.neighbors import KNeighborsRegressor"
   ],
   "id": "2c5e62d712608823",
   "outputs": [],
   "execution_count": 63
  },
  {
   "metadata": {},
   "cell_type": "markdown",
   "source": [
    "## Datensatz und Regressionsmodell\n",
    "\n",
    "In diesem Beispiel verwenden wir den `bike_sharing`-Datensatz, der stündliche Fahrradverleihzahlen und zugehörige Kontextinformationen wie Temperatur, Luftfeuchtigkeit oder Uhrzeit enthält.\n",
    "\n",
    "Wir trainieren ein Regressionsmodell, das die Ausleihzahl vorhersagt. Standardmäßig verwenden wir hier einen Random Forest Regressor – andere Alternativen wären z. B. `LinearRegression`, `KNeighborsRegressor` oder `DecisionTreeRegressor`.\n",
    "\n",
    "Anschließend berechnen wir Interaktionswerte mithilfe des `k-SII`-Index.\n",
    "Diese Werte dienen als Grundlage für die nachfolgende Koalitionsanalyse.\n"
   ],
   "id": "9b4d0df648ea8e02"
  },
  {
   "metadata": {
    "ExecuteTime": {
     "end_time": "2025-07-19T19:42:47.429723Z",
     "start_time": "2025-07-19T19:42:40.337534Z"
    }
   },
   "cell_type": "code",
   "source": [
    "# DataFrame laden (für Spaltennamen + Bearbeitung)\n",
    "X_df, y_df = load_bike_sharing(to_numpy=False)\n",
    "\n",
    "# One-Hot-Encoding für kategoriale Merkmale\n",
    "X_df_encoded = pd.get_dummies(X_df, drop_first=True)  # drop_first vermeidet Dummy-Falle\n",
    "\n",
    "# Spaltennamen für readable-Funktion sichern\n",
    "column_names = list(X_df_encoded.columns)\n",
    "\n",
    "# In NumPy-Array umwandeln für Modell & Explainer\n",
    "X = X_df_encoded.to_numpy()\n",
    "y = y_df.to_numpy()\n",
    "\n",
    "# Train-Test-Split\n",
    "X_train, X_test, y_train, y_test = train_test_split(X, y, random_state=42)\n",
    "\n",
    "# Modelltraining\n",
    "model = RandomForestRegressor(random_state=42)\n",
    "model.fit(X_train, y_train)\n",
    "\n",
    "# Anzeige der ersten 10 Zeilen\n",
    "print(X_df.head(10))"
   ],
   "id": "597805e522f256ac",
   "outputs": [
    {
     "name": "stdout",
     "output_type": "stream",
     "text": [
      "       hour    temp  feel_temp  humidity  windspeed  year  month  holiday  \\\n",
      "0 -1.000000 -0.8125  -0.683918  0.600000  -1.300268  -1.0   -1.0      0.0   \n",
      "1 -0.916667 -0.8750  -0.736714  0.566667  -1.300268  -1.0   -1.0      0.0   \n",
      "2 -0.833333 -0.8750  -0.736714  0.566667  -1.300268  -1.0   -1.0      0.0   \n",
      "3 -0.750000 -0.8125  -0.683918  0.400000  -1.300268  -1.0   -1.0      0.0   \n",
      "4 -0.666667 -0.8125  -0.683918  0.400000  -1.300268  -1.0   -1.0      0.0   \n",
      "5 -0.583333 -0.8125  -0.789163  0.400000  -0.699732  -1.0   -1.0      0.0   \n",
      "6 -0.500000 -0.8750  -0.736714  0.566667  -1.300268  -1.0   -1.0      0.0   \n",
      "7 -0.416667 -0.9375  -0.789163  0.766667  -1.300268  -1.0   -1.0      0.0   \n",
      "8 -0.333333 -0.8125  -0.683918  0.400000  -1.300268  -1.0   -1.0      0.0   \n",
      "9 -0.250000 -0.5625  -0.473428  0.433333  -1.300268  -1.0   -1.0      0.0   \n",
      "\n",
      "   weekday  workingday  season  weather  \n",
      "0     0.75        -1.0     1.0      0.0  \n",
      "1     0.75        -1.0     1.0      0.0  \n",
      "2     0.75        -1.0     1.0      0.0  \n",
      "3     0.75        -1.0     1.0      0.0  \n",
      "4     0.75        -1.0     1.0      0.0  \n",
      "5     0.75        -1.0     1.0      2.0  \n",
      "6     0.75        -1.0     1.0      0.0  \n",
      "7     0.75        -1.0     1.0      0.0  \n",
      "8     0.75        -1.0     1.0      0.0  \n",
      "9     0.75        -1.0     1.0      0.0  \n"
     ]
    }
   ],
   "execution_count": 64
  },
  {
   "cell_type": "markdown",
   "id": "f3aae1580d08e80d",
   "metadata": {},
   "source": [
    "## Interaktionswerte berechnen\n",
    "\n",
    "Um sinnvolle Koalitionen identifizieren zu können, benötigen wir sogenannte Interaktionswerte.\n",
    "Diese quantifizieren den Beitrag einzelner oder kombinierter Features zur Vorhersage eines Modells.\n",
    "\n",
    "Wir verwenden dazu den `Explainer` aus der `shapiq`-Bibliothek mit dem Index `k-SII` (Shapley Interaction Index).\n",
    "Dabei legen wir die maximale Interaktionsordnung (`max_order`) auf 3 fest – d. h. es werden Einzel-, Paar- und Dreifachinteraktionen berücksichtigt.\n",
    "\n",
    "Die Erklärung erfolgt für einen einzelnen Datenpunkt aus dem Trainingsdatensatz.\n"
   ]
  },
  {
   "metadata": {
    "ExecuteTime": {
     "end_time": "2025-07-19T19:47:08.142274Z",
     "start_time": "2025-07-19T19:47:04.110802Z"
    }
   },
   "cell_type": "code",
   "source": [
    "# Initilisieren des Explainer mit dem trainierten Modell\n",
    "explainer = Explainer(\n",
    "    model=model.predict,\n",
    "    data=X_train,\n",
    "    index=\"k-SII\",\n",
    "    max_order=3\n",
    ")\n",
    "\n",
    "# Erklärung berechenen für den ersten Trainingspunkt\n",
    "x0 = X_train[0]\n",
    "explanation = explainer.explain(x0, budget=10)\n",
    "\n",
    "# Ausgabe der Feature-Namen\n",
    "print(\"Namen der Features: \", column_names)\n",
    "\n",
    "# Ausgabe der erklärten Interaktionen\n",
    "print(explanation)"
   ],
   "id": "1468f7a0835f0067",
   "outputs": [
    {
     "name": "stdout",
     "output_type": "stream",
     "text": [
      "Namen der Features:  ['hour', 'temp', 'feel_temp', 'humidity', 'windspeed', 'year', 'month', 'holiday', 'weekday', 'workingday', 'season', 'weather']\n",
      "InteractionValues(\n",
      "    index=k-SII, max_order=3, min_order=0, estimated=True, estimation_budget=10,\n",
      "    n_players=12, baseline_value=190.86463629737608,\n",
      "    Top 10 interactions:\n",
      "        (): 190.86463629737608\n",
      "        (8,): 8.723000040331716\n",
      "        (7,): -5.624079425947433\n",
      "        (9,): -5.624079425947433\n",
      "        (2,): -5.6240794259474365\n",
      "        (11,): -5.6240794259474365\n",
      "        (0,): -6.4091000036664365\n",
      "        (4,): -16.012236257044478\n",
      "        (6,): -25.87783625704454\n",
      "        (1,): -55.7979362570445\n",
      ")\n"
     ]
    }
   ],
   "execution_count": 67
  },
  {
   "metadata": {},
   "cell_type": "markdown",
   "source": [
    "## Koalitionsfindung mit Beam Search (Theorie)\n",
    "\n",
    "Der Algorithmus `subset_finding` nutzt eine heuristische Beam Search zur effizienten Koalitionssuche.\n",
    "\n",
    "Ziel ist es, unter allen möglichen Koalitionen der Größe $l$ diejenigen zu finden, die den höchsten oder niedrigsten Gesamtbeitrag zur Vorhersage eines Modells leisten – gemessen an den sogenannten Interaktionswerten. Dabei bezeichnen wir mit $S_\\text{max}$ die Koalition der Größe $l$, die den höchsten aggregierten Interaktionswert erzielt, und mit $S_\\text{min}$ diejenige mit dem niedrigsten.\n",
    "\n",
    "\n",
    "### Wie wird eine Koalition bewertet?\n",
    "\n",
    "Jede Koalition $S$ besteht aus einer Teilmenge von Features, z. B. $S = \\{A, B\\}$.\n",
    "Zur Bewertung wird der gesamte Einfluss dieser Feature-Kombination auf das Modell aggregiert:\n",
    "\n",
    "$$\n",
    "\\hat{\\nu}_e(S) = e_0 + \\sum_{i \\in S} e_{\\{i\\}} + \\sum_{\\substack{i,j \\in S \\\\ i < j}} e_{\\{i,j\\}} + \\sum_{\\substack{T \\subseteq S \\\\ |T| > 2}} e_T\n",
    "$$\n",
    "\n",
    "Dabei gilt:\n",
    "- $e_0$: Basiswert ohne Features (leere Koalition)\n",
    "- $e_{\\{i\\}}$: Beitrag des einzelnen Features $i$\n",
    "- $e_{\\{i,j\\}}$: Beitrag des Zusammenspiels von zwei Features\n",
    "- $e_T$: höherwertige Interaktionen (drei oder mehr)\n",
    "\n",
    "Je höher der Wert $\\hat{\\nu}_e(S)$, desto stärker der Einfluss der Koalition auf die Vorhersage (positiv oder negativ).\n",
    "\n",
    "### Beispiel\n",
    "\n",
    "Gegeben sei eine Feature-Menge $N = \\{A, B, C\\}$ mit folgenden Interaktionen:\n",
    "\n",
    "- $e_{\\{A\\}} = 1.0$, $e_{\\{B\\}} = -0.5$, $e_{\\{A,B\\}} = 0.3$\n",
    "- $e_{\\{C,B\\}} = -0.2$, $e_{\\{C\\}} = -0.1$, $e_{\\{A,C\\}} = 0.2$, $e_{\\{A,B,C\\}} = 0.6$, $e_0 = 0.0$\n",
    "\n",
    "Dann ergibt sich für die Koalition $S = \\{A, B\\}$:\n",
    "\n",
    "$$\n",
    "\\hat{\\nu}_e(\\{A,B\\}) = 0.0 + 1.0 - 0.5 + 0.3 = 0.8\n",
    "$$\n",
    "\n",
    "### Wie findet der Algorithmus solche Koalitionen effizient?\n",
    "\n",
    "Statt alle möglichen Kombinationen zu prüfen, was bei vielen Features sehr aufwändig wäre, geht der Algorithmus schrittweise vor:\n",
    "\n",
    "- Zuerst werden alle einzelnen Features als Startpunkte betrachtet\n",
    "- In mehreren Runden werden die vielversprechendsten Kandidaten um je ein weiteres Feature erweitert\n",
    "- In jeder Runde bleiben nur die bestbewerteten Kombinationen erhalten, alle anderen werden verworfen\n",
    "\n",
    "Der Algorithmus besteht dabei aus zwei klar getrennten Phasen:\n",
    "\n",
    "1. **Approximationsphase**:\n",
    "   In dieser Phase erfolgt die Bewertung der Koalitionen heuristisch.\n",
    "   Höherwertige Interaktionen werden vorab anteilig auf die Einzelspieler verteilt.\n",
    "   So kann der Algorithmus Koalitionen effizient vergleichen, ohne die vollständige Formel auszuwerten.\n",
    "\n",
    "2. **Genauigkeitsphase**:\n",
    "   Sobald die Anzahl der Kandidaten unter eine festgelegte Schwelle sinkt (die sogenannte Threshold-Beam-Breite),\n",
    "   wird die Bewertung auf Basis der exakten Bewertungsfunktion durchgeführt – also unter Berücksichtigung aller vorhandenen Hyperkanten.\n",
    "\n",
    "Auf diese Weise lassen sich Koalitionen mit extremen Interaktionswerten effizient und präzise identifizieren.\n",
    "\n"
   ],
   "id": "79fa6e1c80c767a3"
  },
  {
   "cell_type": "markdown",
   "id": "e9d8efb89f091294",
   "metadata": {},
   "source": [
    "## Koalitionsfindung mit Beam Search (Anwendung)\n",
    "\n",
    "Wir wenden nun den Algorithmus `subset_finding` auf die berechneten Interaktionswerte an.\n",
    "Gesucht wird eine Koalition fester Größe (hier: $l = 3$) mit maximalem bzw. minimalem aggregierten Interaktionswert gemäß der zuvor erklärten Bewertungsfunktion.\n",
    "\n",
    "### Parameter von `subset_finding` im Kontext unseres Beispiels\n",
    "\n",
    "Die Funktion `subset_finding(...)` ist der zentrale Einstiegspunkt für die Koalitionsanalyse mittels Beam Search. Im Folgenden erläutern wir die beiden wichtigsten Parameter im Kontext unseres Beispiels:\n",
    "\n",
    "- **`interaction_values:`**\n",
    "  Das `InteractionValues`-Objekt (hier `explanation`) enthält die erklärten Interaktionen des Modells für einen bestimmten Datenpunkt (`x0`). Diese wurden in unserem Beispiel zuvor mit dem `Explainer` aus der Bibliothek `shapiq` berechnet – unter Verwendung des `k-SII`-Indexes und einer maximalen Interaktionsordnung von 3. Das Objekt fasst alle Einzel-, Paar- und Dreifachinteraktionen zusammen und bildet somit die Bewertungsgrundlage für jede mögliche Koalition von Features.\n",
    "\n",
    "- **`max_size:`**\n",
    "  Dieser Parameter legt die gewünschte Koalitionsgröße `l` fest, d. h. wie viele Features in den gesuchten Koalitionen enthalten sein sollen. In unserem Beispiel setzen wir `max_size=3`, um gezielt Dreierkombinationen zu analysieren. Das entspricht typischen Anwendungsfällen, in denen wir kompakte Gruppen von stark interagierenden Features identifizieren möchten. Dabei gilt: `max_size` muss eine ganze Zahl im Bereich $ 0 \\leq l \\leq |N| $ sein, wobei $ l $ die gewünschte Koalitionsgröße und $ |N| $ die Anzahl der Spieler (Features) bezeichnet. Negative Werte oder Koalitionsgrößen größer als die Gesamtanzahl der Features sind nicht zulässig.\n"
   ]
  },
  {
   "cell_type": "code",
   "id": "dd7fbf5cc05f66c4",
   "metadata": {
    "ExecuteTime": {
     "end_time": "2025-07-19T19:47:17.793524Z",
     "start_time": "2025-07-19T19:47:17.743258Z"
    }
   },
   "source": [
    "# Import des Koalitionsfindungs-Algorithmus\n",
    "from shapiq_student.subset_finding import subset_finding\n",
    "\n",
    "# Suche nach Koalitionen der Größe 3\n",
    "beam_result = subset_finding(interaction_values=explanation, max_size=3)\n",
    "beam_result"
   ],
   "outputs": [
    {
     "data": {
      "text/plain": [
       "InteractionValues(\n",
       "    index=k-SII, max_order=3, min_order=3, estimated=True, estimation_budget=None,\n",
       "    n_players=12, baseline_value=190.86463629737608\n",
       ")"
      ]
     },
     "execution_count": 68,
     "metadata": {},
     "output_type": "execute_result"
    }
   ],
   "execution_count": 68
  },
  {
   "cell_type": "markdown",
   "id": "70fd7affd604168d",
   "metadata": {},
   "source": [
    "## Analyse der gefundenen Koalitionen\n",
    "\n",
    "Die Funktion `subset_finding` liefert zwei Koalitionen:\n",
    "\n",
    "- `s_max`: Die Koalition der Größe `l` (bzw. `max_size`), die den höchsten aggregierten Interaktionswert erzielt\n",
    "- `s_min`: Die Koalition der Größe `l` (bzw. `max_size`), die den niedrigsten aggregierten Interaktionswert erzielt\n",
    "\n",
    "Zusätzlich gibt sie auch die zugehörigen aggregierten Interaktionswerte `v_max` und `v_min` zurück.\n",
    "\n",
    "Im Folgenden untersuchen wir die Koalitionen genauer – sowohl in numerischer Form (Index) als auch lesbar mit Spaltennamen.\n"
   ]
  },
  {
   "cell_type": "code",
   "id": "a0681d344b86966b",
   "metadata": {
    "ExecuteTime": {
     "end_time": "2025-07-19T19:47:21.794261Z",
     "start_time": "2025-07-19T19:47:21.764017Z"
    }
   },
   "source": [
    "# Rohausgabe\n",
    "print(\"Koalition mit höchstem, aggregierten Interaktionswert (Index):\", beam_result.s_max)\n",
    "print(\"Koalition mit niedrigstem, aggregierten Interaktionswert (Index):\", beam_result.s_min)\n",
    "print(\"Interaktionswert der Koalition mit höchstem, aggregierten Interaktionswert:\", beam_result.v_max)\n",
    "print(\"Interaktionswert der Koalition mit niedrigstem, aggregierten Interaktionswert:\", beam_result.v_min)\n",
    "\n",
    "# Spaltennamen aus dem ursprünglichen DataFrame laden (X_df stammt von oben)\n",
    "column_names = list(X_df.columns)\n",
    "\n",
    "\n",
    "# Funktion für lesbare Koalitionsdarstellung\n",
    "def readable(S: set[int]) -> set[str]:\n",
    "    return {column_names[i] for i in set(S)}\n",
    "\n",
    "\n",
    "# Anzeige der Koalitionen in lesbarer Form\n",
    "print(\"Koalition mit höchstem, aggregierten Interaktionswert (Namen):\", readable(beam_result.s_max))\n",
    "print(\"Koalition mit niedrigstem, aggregierten Interaktionswert (Namen):\", readable(beam_result.s_min))"
   ],
   "outputs": [
    {
     "name": "stdout",
     "output_type": "stream",
     "text": [
      "Koalition mit höchstem, aggregierten Interaktionswert (Index): {8, 10, 3}\n",
      "Koalition mit niedrigstem, aggregierten Interaktionswert (Index): {1, 4, 6}\n",
      "Interaktionswert der Koalition mit höchstem, aggregierten Interaktionswert: 195.49797486903944\n",
      "Interaktionswert der Koalition mit niedrigstem, aggregierten Interaktionswert: 95.76763244300307\n",
      "Koalition mit höchstem, aggregierten Interaktionswert (Namen): {'weekday', 'season', 'humidity'}\n",
      "Koalition mit niedrigstem, aggregierten Interaktionswert (Namen): {'temp', 'windspeed', 'month'}\n"
     ]
    }
   ],
   "execution_count": 69
  },
  {
   "metadata": {},
   "cell_type": "markdown",
   "source": [
    "### Alternative: Direkter Zugriff auf Koalitionswerte über Lookup-Dictionary\n",
    "\n",
    "Neben den Attributen `s_max`, `s_min`, `v_max` und `v_min` können die in `InteractionValues` gespeicherten Koalitionen und deren aggregierte Interaktionswerte auch direkt über das Lookup-Dictionary ausgelesen werden.\n",
    "\n",
    "Das Attribut `interaction_lookup` enthält dabei ein Mapping von Koalitions-Tupeln (z. B. `(2, 5, 9)`) auf Integer-Indizes, die mit dem `values`-Array korrespondieren.\n",
    "\n",
    "So lassen sich alle gespeicherten Koalitionen mit ihren Werten z. B. programmgesteuert iterieren, visualisieren oder in Berichten weiterverarbeiten.\n",
    "\n",
    ">Hinweis: Das von `subset_finding(...)` zurückgegebene `InteractionValues`-Objekt enthält genau zwei Koalitionen:\n",
    ">\n",
    "> - Die Koalition mit dem niedrigsten aggregierten Interaktionswert (`s_min`) befindet sich immer an Index 0 im `.values`-Array\n",
    "> - Die Koalition mit dem höchsten aggregierten Interaktionswert (`s_max`) befindet sich immer an Index 1\n",
    ">\n",
    "> Diese Positionen sind konsistent und durch das interne `interaction_lookup` eindeutig nachvollziehbar.\n",
    "> Sie erlauben es, direkt auf die Extrem-Koalitionen zuzugreifen – entweder über die Attribute `s_min`, `s_max` oder über die Positionsindizes `0` und `1`."
   ],
   "id": "9ef08d3c55d02265"
  },
  {
   "metadata": {
    "ExecuteTime": {
     "end_time": "2025-07-19T19:49:20.169147Z",
     "start_time": "2025-07-19T19:49:20.147982Z"
    }
   },
   "cell_type": "code",
   "source": [
    "# Zugriff auf Koalitionen und zugehörige Werte aus dem Ergebnisobjekt\n",
    "lookup = beam_result.interaction_lookup\n",
    "values = beam_result.values\n",
    "\n",
    "# Ermitteln der Koalitions-Tupel anhand ihrer bekannten Position im Ergebnisarray\n",
    "s_min_key = next(k for k, v in lookup.items() if v == 0)\n",
    "s_max_key = next(k for k, v in lookup.items() if v == 1)\n",
    "\n",
    "# Umwandlung der Koalition in lesbare Spaltennamen (sortiert nach Feature-Index)\n",
    "s_min_names = readable(set(s_min_key))\n",
    "s_max_names = readable(set(s_max_key))\n",
    "\n",
    "# Ausgabe der Koalitionen mit Namen und zugehörigem aggregierten Interaktionswert\n",
    "print(f\"Koalition {s_max_names} (s_max) → Interaktionswert: {values[1]:.3f}\")\n",
    "print(f\"Koalition {s_min_names} (s_min) → Interaktionswert: {values[0]:.3f}\")\n"
   ],
   "id": "dbc9328974d9ca53",
   "outputs": [
    {
     "name": "stdout",
     "output_type": "stream",
     "text": [
      "Koalition {'weekday', 'season', 'humidity'} (s_max) → Interaktionswert: 195.498\n",
      "Koalition {'temp', 'windspeed', 'month'} (s_min) → Interaktionswert: 95.768\n"
     ]
    }
   ],
   "execution_count": 71
  },
  {
   "cell_type": "markdown",
   "id": "d20631f65d071731",
   "metadata": {},
   "source": [
    "## Fazit\n",
    "\n",
    "Der heuristische Beam Search Algorithmus ermöglicht eine effiziente Identifikation von Koalitionen mit hohem oder niedrigem Einfluss auf eine Modellvorhersage – selbst bei großen Feature-Mengen.\n",
    "\n",
    "Durch die Kombination aus Approximations- und Genauigkeitsphase werden vielversprechende Koalitionen gezielt ausgewählt und präzise bewertet.\n",
    "So lässt sich eine starke Reduktion des Suchraums erzielen, ohne auf gute Lösungen verzichten zu müssen.\n",
    "\n",
    "Der Algorithmus lässt sich flexibel auf Interaktionen höherer Ordnung anwenden und stellt eine leistungsfähige Erweiterung\n",
    "zur Analyse modellbasierter Erklärungen dar.\n"
   ]
  }
 ],
 "metadata": {
  "kernelspec": {
   "display_name": "Python 3",
   "language": "python",
   "name": "python3"
  },
  "language_info": {
   "codemirror_mode": {
    "name": "ipython",
    "version": 2
   },
   "file_extension": ".py",
   "mimetype": "text/x-python",
   "name": "python",
   "nbconvert_exporter": "python",
   "pygments_lexer": "ipython2",
   "version": "2.7.6"
  }
 },
 "nbformat": 4,
 "nbformat_minor": 5
}
