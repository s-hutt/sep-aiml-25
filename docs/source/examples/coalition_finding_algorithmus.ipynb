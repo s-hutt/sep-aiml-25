{
 "cells": [
  {
   "cell_type": "markdown",
   "id": "15444616891de067",
   "metadata": {},
   "source": "# Coalition-Finding Algorithmus"
  },
  {
   "cell_type": "markdown",
   "id": "1a2c526077a9f22",
   "metadata": {},
   "source": [
    "Dieses Notebook demonstriert die Nutzung des Algorithmus `subset_finding`, um Koalitionen von Features mit dem höchsten bzw. niedrigsten aggregierten Interaktionswert zu identifizieren.\n",
    "\n",
    "Als Grundlage dienen Interaktionswerte, die auf einem erklärbaren Modell basieren und mit Hilfe von Indizes wie `k-SII`, `STII` oder `FSII` berechnet wurden.\n",
    "\n",
    "Der zugrundeliegende Algorithmus basiert auf einer heuristischen Beam Search, die durch gezielte Vorauswahl vielversprechender Teilkoalitionen eine effiziente Suche in großen Feature-Räumen ermöglicht.\n",
    "\n",
    "\n",
    "\n"
   ]
  },
  {
   "cell_type": "markdown",
   "id": "2f1509452da215e5",
   "metadata": {},
   "source": [
    "## Vorbereitung: Imports\n",
    "\n",
    "Wir beginnen mit dem Import aller benötigten Module für Modellierung, Datenaufbereitung und den Koalitionsfindungs-Algorithmus.\n",
    "\n"
   ]
  },
  {
   "cell_type": "code",
   "id": "9048958ffa2be2b4",
   "metadata": {
    "ExecuteTime": {
     "end_time": "2025-07-18T22:19:16.636909Z",
     "start_time": "2025-07-18T22:19:16.576258Z"
    }
   },
   "source": [
    "# -------------------------------------------------------------\n",
    "# Warnungen unterdrücken für saubere Ausgabe im Notebook\n",
    "# -------------------------------------------------------------\n",
    "import warnings\n",
    "\n",
    "# Warnung bei .to_numpy() in Kombination mit sklearn-Modellen\n",
    "warnings.filterwarnings(\n",
    "    \"ignore\",\n",
    "    message=\"X does not have valid feature names, but RandomForestRegressor was fitted with feature names\",\n",
    "    category=UserWarning,\n",
    ")\n",
    "\n",
    "# Warnung bei zu kleinem Hintergrunddatensatz für Explainer\n",
    "warnings.filterwarnings(\n",
    "    \"ignore\",\n",
    "    message=\"The sample size is larger than the number of data points in the background set.*\",\n",
    "    category=UserWarning,\n",
    ")\n",
    "\n",
    "# -------------------------------------------------------------\n",
    "# Standardbibliotheken und Framework-Imports\n",
    "# -------------------------------------------------------------\n",
    "import numpy as np\n",
    "import matplotlib.pyplot as plt\n",
    "from sklearn.ensemble import RandomForestRegressor\n",
    "from sklearn.model_selection import train_test_split\n",
    "\n",
    "# shapiq: Erklärbarkeit und Beispiel-Datensatz\n",
    "from shapiq import Explainer\n",
    "from shapiq.datasets import load_bike_sharing\n",
    "\n"
   ],
   "outputs": [],
   "execution_count": 39
  },
  {
   "cell_type": "markdown",
   "id": "2a3d82a55f718c39",
   "metadata": {},
   "source": [
    "## Datensatz und Regressionsmodell\n",
    "\n",
    "In diesem Beispiel verwenden wir den `bike_sharing`-Datensatz, der stündliche Fahrradverleihzahlen und zugehörige Kontextinformationen wie Temperatur, Luftfeuchtigkeit oder Uhrzeit enthält.\n",
    "\n",
    "Wir trainieren ein Regressionsmodell, das die Ausleihzahl vorhersagt. Standardmäßig verwenden wir hier einen Random Forest Regressor – andere Alternativen wären z. B. `LinearRegression`, `KNeighborsRegressor` oder `DecisionTreeRegressor`.\n",
    "\n",
    "Anschließend berechnen wir Interaktionswerte mithilfe des `k-SII`-Index.\n",
    "Diese Werte dienen als Grundlage für die nachfolgende Koalitionsanalyse.\n"
   ]
  },
  {
   "cell_type": "code",
   "id": "fcded8376b642cb",
   "metadata": {
    "ExecuteTime": {
     "end_time": "2025-07-18T19:44:49.156024Z",
     "start_time": "2025-07-18T19:44:48.852281Z"
    }
   },
   "source": [
    "# Bike-Sharing-Daten laden\n",
    "X, y = load_bike_sharing()\n",
    "\n",
    "# Wir wählen 100 zufällige Datenpunkte für die spätere Koalitionsanalyse\n",
    "X = X.sample(n=100, random_state=42)\n",
    "y = y.loc[X.index]\n",
    "\n",
    "# Trainingsdaten aufteilen und Modell trainieren\n",
    "X_train, _, y_train, _ = train_test_split(X, y, test_size=0.2, random_state=1)\n",
    "model = RandomForestRegressor().fit(X_train, y_train)"
   ],
   "outputs": [],
   "execution_count": 34
  },
  {
   "cell_type": "markdown",
   "id": "f3aae1580d08e80d",
   "metadata": {},
   "source": [
    "## Interaktionswerte berechnen\n",
    "\n",
    "Um sinnvolle Koalitionen identifizieren zu können, benötigen wir sogenannte Interaktionswerte.\n",
    "Diese quantifizieren den Beitrag einzelner oder kombinierter Features zur Vorhersage eines Modells.\n",
    "\n",
    "Wir verwenden dazu den `Explainer` aus der `shapiq`-Bibliothek mit dem Index `k-SII` (Shapley Interaction Index).\n",
    "Dabei legen wir die maximale Interaktionsordnung (`max_order`) auf 3 fest – d. h. es werden Einzel-, Paar- und Dreifachinteraktionen berücksichtigt.\n",
    "\n",
    "Die Erklärung erfolgt für einen einzelnen Datenpunkt aus dem Trainingsdatensatz.\n"
   ]
  },
  {
   "cell_type": "code",
   "id": "11665ba20826fca6",
   "metadata": {
    "ExecuteTime": {
     "end_time": "2025-07-18T19:44:52.133078Z",
     "start_time": "2025-07-18T19:44:51.134332Z"
    }
   },
   "source": [
    "from shapiq import Explainer\n",
    "\n",
    "explainer = Explainer(\n",
    "    model=model.predict,\n",
    "    data=X_train.to_numpy(),\n",
    "    index=\"k-SII\",\n",
    "    max_order=3,\n",
    ")\n",
    "\n",
    "# Wir erklären den ersten Datenpunkt aus dem Trainingsset\n",
    "x0 = X_train.to_numpy()[0]\n",
    "interaction_values = explainer.explain(x0, budget=16)\n",
    "interaction_values"
   ],
   "outputs": [
    {
     "data": {
      "text/plain": [
       "InteractionValues(\n",
       "    index=k-SII, max_order=3, min_order=0, estimated=True, estimation_budget=16,\n",
       "    n_players=12, baseline_value=191.13187499999998\n",
       ")"
      ]
     },
     "execution_count": 35,
     "metadata": {},
     "output_type": "execute_result"
    }
   ],
   "execution_count": 35
  },
  {
   "metadata": {},
   "cell_type": "markdown",
   "source": [
    "## Koalitionsfindung mit Beam Search (Theorie)\n",
    "\n",
    "Der Algorithmus `subset_finding` nutzt eine heuristische Beam Search zur effizienten Koalitionssuche.\n",
    "\n",
    "Ziel ist es, unter allen möglichen Koalitionen der Größe $l$ diejenigen zu finden, die den höchsten oder niedrigsten Gesamtbeitrag zur Vorhersage eines Modells leisten – gemessen an den sogenannten Interaktionswerten.\n",
    "\n",
    "\n",
    "### Wie wird eine Koalition bewertet?\n",
    "\n",
    "Jede Koalition $S$ besteht aus einer Teilmenge von Features, z. B. $S = \\{A, B\\}$.\n",
    "Zur Bewertung wird der gesamte Einfluss dieser Feature-Kombination auf das Modell aggregiert:\n",
    "\n",
    "$$\n",
    "\\hat{\\nu}_e(S) = e_0 + \\sum_{i \\in S} e_{\\{i\\}} + \\sum_{\\substack{i,j \\in S \\\\ i < j}} e_{\\{i,j\\}} + \\sum_{\\substack{T \\subseteq S \\\\ |T| > 2}} e_T\n",
    "$$\n",
    "\n",
    "Dabei gilt:\n",
    "- $e_0$: Basiswert ohne Features (leere Koalition)\n",
    "- $e_{\\{i\\}}$: Beitrag des einzelnen Features $i$\n",
    "- $e_{\\{i,j\\}}$: Beitrag des Zusammenspiels von zwei Features\n",
    "- $e_T$: höherwertige Interaktionen (drei oder mehr)\n",
    "\n",
    "Je höher der Wert $\\hat{\\nu}_e(S)$, desto stärker der Einfluss der Koalition auf die Vorhersage (positiv oder negativ).\n",
    "\n",
    "### Beispiel\n",
    "\n",
    "Gegeben sei eine Feature-Menge $N = \\{A, B, C\\}$ mit folgenden Interaktionen:\n",
    "\n",
    "- $e_{\\{A\\}} = 1.0$, $e_{\\{B\\}} = -0.5$, $e_{\\{A,B\\}} = 0.3$\n",
    "- $e_{\\{C,B\\}} = -0.2$, $e_{\\{C\\}} = -0.1$, $e_{\\{A,C\\}} = 0.2$, $e_{\\{A,B,C\\}} = 0.6$, $e_0 = 0.0$\n",
    "\n",
    "Dann ergibt sich für die Koalition $S = \\{A, B\\}$:\n",
    "\n",
    "$$\n",
    "\\hat{\\nu}_e(\\{A,B\\}) = 0.0 + 1.0 - 0.5 + 0.3 = 0.8\n",
    "$$\n",
    "\n",
    "### Wie findet der Algorithmus solche Koalitionen effizient?\n",
    "\n",
    "Statt alle möglichen Kombinationen zu prüfen, was bei vielen Features sehr aufwändig wäre, geht der Algorithmus schrittweise vor:\n",
    "\n",
    "- Zuerst werden alle einzelnen Features als Startpunkte betrachtet\n",
    "- In mehreren Runden werden die vielversprechendsten Kandidaten um je ein weiteres Feature erweitert\n",
    "- In jeder Runde bleiben nur die bestbewerteten Kombinationen erhalten, alle anderen werden verworfen\n",
    "\n",
    "Der Algorithmus besteht dabei aus zwei klar getrennten Phasen:\n",
    "\n",
    "1. **Approximationsphase**:\n",
    "   In dieser Phase erfolgt die Bewertung der Koalitionen heuristisch.\n",
    "   Höherwertige Interaktionen werden vorab anteilig auf die Einzelspieler verteilt.\n",
    "   So kann der Algorithmus Koalitionen effizient vergleichen, ohne die vollständige Formel auszuwerten.\n",
    "\n",
    "2. **Genauigkeitsphase**:\n",
    "   Sobald die Anzahl der Kandidaten unter eine festgelegte Schwelle sinkt (die sogenannte Threshold-Beam-Breite),\n",
    "   wird die Bewertung auf Basis der exakten Bewertungsfunktion durchgeführt – also unter Berücksichtigung aller vorhandenen Hyperkanten.\n",
    "\n",
    "Auf diese Weise lassen sich Koalitionen mit extremen Interaktionswerten effizient und präzise identifizieren.\n",
    "\n"
   ],
   "id": "79fa6e1c80c767a3"
  },
  {
   "cell_type": "markdown",
   "id": "e9d8efb89f091294",
   "metadata": {},
   "source": [
    "## Koalitionsfindung mit Beam Search (Praxis)\n",
    "\n",
    "Wir wenden nun den Algorithmus `subset_finding` auf die berechneten Interaktionswerte an.\n",
    "Gesucht wird eine Koalition fester Größe (hier: $l = 3$) mit maximalem bzw. minimalem aggregierten Interaktionswert gemäß der zuvor erklärten Bewertungsfunktion.\n"
   ]
  },
  {
   "cell_type": "code",
   "id": "dd7fbf5cc05f66c4",
   "metadata": {
    "ExecuteTime": {
     "end_time": "2025-07-19T00:36:11.947159Z",
     "start_time": "2025-07-19T00:36:11.761210Z"
    }
   },
   "source": [
    "# Import des Koalitionsfindungs-Algorithmus\n",
    "from shapiq_student.subset_finding import subset_finding\n",
    "\n",
    "# Suche nach Koalitionen der Größe 3\n",
    "beam_result = subset_finding(interaction_values=interaction_values, max_size=3)\n",
    "beam_result"
   ],
   "outputs": [
    {
     "data": {
      "text/plain": [
       "InteractionValues(\n",
       "    index=k-SII, max_order=3, min_order=3, estimated=True, estimation_budget=None,\n",
       "    n_players=12, baseline_value=191.13187499999998\n",
       ")"
      ]
     },
     "execution_count": 40,
     "metadata": {},
     "output_type": "execute_result"
    }
   ],
   "execution_count": 40
  },
  {
   "cell_type": "markdown",
   "id": "70fd7affd604168d",
   "metadata": {},
   "source": [
    "## Analyse der gefundenen Koalitionen\n",
    "\n",
    "Die Funktion `subset_finding` liefert zwei Koalitionen:\n",
    "\n",
    "- `s_max`: Die Koalition der Größe `l`, die den höchsten aggregierten Interaktionswert erzielt\n",
    "- `s_min`: Die Koalition mit dem niedrigsten Wert\n",
    "\n",
    "Zusätzlich gibt sie auch die zugehörigen aggregierten Interaktionswerte `v_max` und `v_min` zurück.\n",
    "\n",
    "Im Folgenden untersuchen wir die Koalitionen genauer – sowohl in numerischer Form (Index) als auch lesbar mit Spaltennamen.\n"
   ]
  },
  {
   "cell_type": "code",
   "id": "a0681d344b86966b",
   "metadata": {
    "ExecuteTime": {
     "end_time": "2025-07-19T00:43:07.624783Z",
     "start_time": "2025-07-19T00:43:07.599476Z"
    }
   },
   "source": [
    "# Rohausgabe\n",
    "print(\"Koalition mit höchstem, aggregierten Interaktionswert (Index):\", beam_result.s_max)\n",
    "print(\"Koalition mit niedrigstem, aggregierten Interaktionswert (Index):\", beam_result.s_min)\n",
    "print(\"Interaktionswert der Koalition mit höchstem, aggregierten Interaktionswert:\", beam_result.v_max)\n",
    "print(\"Interaktionswert der Koalition mit niedrigstem, aggregierten Interaktionswert:\", beam_result.v_min)\n",
    "\n",
    "# Lesbare Darstellung mithilfe der Spaltennamen\n",
    "columns = X_train.columns\n",
    "\n",
    "\n",
    "def readable(S: set[int]) -> set[str]:\n",
    "    return {columns[i] for i in S}\n",
    "\n",
    "\n",
    "print(\"Koalition mit höchstem, aggregierten Interaktionswert (Namen):\", readable(beam_result.s_max))\n",
    "print(\"Koalition mit niedrigstem, aggregierten Interaktionswert (Namen):\", readable(beam_result.s_min))"
   ],
   "outputs": [
    {
     "name": "stdout",
     "output_type": "stream",
     "text": [
      "Koalition mit höchstem, aggregierten Interaktionswert (Index): {8, 9, 5}\n",
      "Koalition mit niedrigstem, aggregierten Interaktionswert (Index): {0, 1, 2}\n",
      "Interaktionswert der Koalition mit höchstem, aggregierten Interaktionswert: 195.56869930600533\n",
      "Interaktionswert der Koalition mit niedrigstem, aggregierten Interaktionswert: 42.10465199174142\n",
      "Koalition mit höchstem, aggregierten Interaktionswert (Namen): {'weekday', 'workingday', 'year'}\n",
      "Koalition mit niedrigstem, aggregierten Interaktionswert (Namen): {'feel_temp', 'temp', 'hour'}\n"
     ]
    }
   ],
   "execution_count": 43
  },
  {
   "cell_type": "markdown",
   "id": "d20631f65d071731",
   "metadata": {},
   "source": [
    "## Fazit\n",
    "\n",
    "Der heuristische Beam Search Algorithmus ermöglicht eine effiziente Identifikation von Koalitionen mit hohem oder niedrigem Einfluss auf eine Modellvorhersage – selbst bei großen Feature-Mengen.\n",
    "\n",
    "Durch die Kombination aus Approximations- und Genauigkeitsphase werden vielversprechende Koalitionen gezielt ausgewählt und präzise bewertet.\n",
    "So lässt sich eine starke Reduktion des Suchraums erzielen, ohne auf gute Lösungen verzichten zu müssen.\n",
    "\n",
    "Der Algorithmus lässt sich flexibel auf Interaktionen höherer Ordnung anwenden und stellt eine leistungsfähige Erweiterung\n",
    "zur Analyse modellbasierter Erklärungen dar.\n"
   ]
  }
 ],
 "metadata": {
  "kernelspec": {
   "display_name": "Python 3",
   "language": "python",
   "name": "python3"
  },
  "language_info": {
   "codemirror_mode": {
    "name": "ipython",
    "version": 2
   },
   "file_extension": ".py",
   "mimetype": "text/x-python",
   "name": "python",
   "nbconvert_exporter": "python",
   "pygments_lexer": "ipython2",
   "version": "2.7.6"
  }
 },
 "nbformat": 4,
 "nbformat_minor": 5
}
