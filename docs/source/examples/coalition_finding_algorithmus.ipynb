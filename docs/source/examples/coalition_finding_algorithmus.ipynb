{
 "cells": [
  {
   "cell_type": "markdown",
   "id": "15444616891de067",
   "metadata": {},
   "source": "# Coalition-Finding Algorithmus"
  },
  {
   "cell_type": "markdown",
   "id": "1a2c526077a9f22",
   "metadata": {},
   "source": [
    "In diesem Notebook demonstrieren wir die Funktionsweise eines heuristischen Algorithmus zur Koalitionssuche,\n",
    "der darauf abzielt, innerhalb einer gegebenen Menge von Interaktionswerten die *beste* bzw. *schlechteste* Koalition\n",
    "festgelegter Größe zu identifizieren.\n",
    "\n",
    "Jede Koalition \\\\( S \\subseteq N \\\\) mit fester Größe \\\\( |S| = l \\\\) wird anhand ihrer aggregierten Interaktionswerte bewertet.\n",
    "Diese Bewertung erfolgt über eine Funktion \\\\( \\hat{\\nu}_e(S) \\\\), welche alle zu \\\\( S \\\\) gehörenden Interaktionen aufsummiert:\n",
    "\n",
    "\\[\n",
    "\\hat{\\nu}_e(S) := e_0 + \\sum_{i \\in S} e_{\\{i\\}} + \\sum_{\\{i,j\\} \\subseteq S} e_{\\{i,j\\}} + \\sum_{\\substack{T \\subseteq S \\\\\\\\ |T| > 2}} e_T\n",
    "\\]\n",
    "\n",
    "Der hier vorgestellte `subset_finding` Algorithmus nutzt eine Beam-Search-Heuristik zur effizienten Suche solcher Koalitionen.\n",
    "Wir zeigen dies im Folgenden anhand eines Beispiels mit echten Interaktionswerten.\n",
    "\n",
    "\n"
   ]
  },
  {
   "cell_type": "markdown",
   "id": "2f1509452da215e5",
   "metadata": {},
   "source": [
    "## Vorbereitung: Imports\n",
    "\n",
    "Wir beginnen mit dem Import aller benötigten Module für Modellierung, Datenaufbereitung und den Koalitionsfindungs-Algorithmus.\n",
    "\n"
   ]
  },
  {
   "cell_type": "code",
   "execution_count": 1,
   "id": "9048958ffa2be2b4",
   "metadata": {
    "ExecuteTime": {
     "end_time": "2025-07-18T18:04:11.321166Z",
     "start_time": "2025-07-18T18:04:01.424304Z"
    }
   },
   "outputs": [],
   "source": [
    "from __future__ import annotations\n",
    "\n",
    "from shapiq.datasets import load_bike_sharing\n",
    "from sklearn.ensemble import RandomForestRegressor\n",
    "from sklearn.model_selection import train_test_split"
   ]
  },
  {
   "cell_type": "markdown",
   "id": "2a3d82a55f718c39",
   "metadata": {},
   "source": [
    "## Datensatz und Regressionsmodell\n",
    "\n",
    "Wir verwenden den `bike_sharing`-Datensatz, um ein Random-Forest-Regressionsmodell zu trainieren.\n",
    "Der Datensatz enthält numerische Merkmale (z.B. Temperatur, Luftfeuchtigkeit, Uhrzeit),\n",
    "mit denen die Anzahl ausgeliehener Fahrräder vorhergesagt werden soll.\n"
   ]
  },
  {
   "cell_type": "code",
   "execution_count": 2,
   "id": "fcded8376b642cb",
   "metadata": {
    "ExecuteTime": {
     "end_time": "2025-07-18T18:09:43.590258Z",
     "start_time": "2025-07-18T18:09:42.968189Z"
    }
   },
   "outputs": [],
   "source": [
    "# Bike-Sharing-Daten laden\n",
    "X, y = load_bike_sharing()\n",
    "\n",
    "# Wir wählen 16 zufällige Datenpunkte für die spätere Koalitionsanalyse\n",
    "X = X.sample(n=16, random_state=42)\n",
    "y = y.loc[X.index]\n",
    "\n",
    "# Trainingsdaten aufteilen und Modell trainieren\n",
    "X_train, _, y_train, _ = train_test_split(X, y, test_size=0.2, random_state=1)\n",
    "model = RandomForestRegressor().fit(X_train, y_train)"
   ]
  },
  {
   "cell_type": "markdown",
   "id": "f3aae1580d08e80d",
   "metadata": {},
   "source": [
    "## Interaktionswerte berechnen\n",
    "\n",
    "Um sinnvolle Koalitionen identifizieren zu können, benötigen wir sogenannte Interaktionswerte.\n",
    "Diese quantifizieren den Beitrag einzelner oder kombinierter Features zur Vorhersage eines Modells.\n",
    "\n",
    "Wir verwenden dazu den `Explainer` aus der `shapiq`-Bibliothek mit dem Index `k-SII` (Shapley Interaction Index).\n",
    "Dabei legen wir die maximale Interaktionsordnung (`max_order`) auf 3 fest – d.h. es werden Einzel-, Paar-\n",
    "\n",
    "Die Erklärung erfolgt für einen einzelnen Datenpunkt.\n"
   ]
  },
  {
   "cell_type": "code",
   "execution_count": 3,
   "id": "11665ba20826fca6",
   "metadata": {
    "ExecuteTime": {
     "end_time": "2025-07-18T18:11:46.739729Z",
     "start_time": "2025-07-18T18:11:45.204269Z"
    }
   },
   "outputs": [
    {
     "name": "stderr",
     "output_type": "stream",
     "text": [
      "/Users/samuelhutt/Developer/sep_mlai/sep-aiml-25/.venv/lib/python3.13/site-packages/sklearn/utils/validation.py:2739: UserWarning: X does not have valid feature names, but RandomForestRegressor was fitted with feature names\n",
      "  warnings.warn(\n",
      "/Users/samuelhutt/Developer/sep_mlai/sep-aiml-25/.venv/lib/python3.13/site-packages/shapiq/games/imputer/marginal_imputer.py:103: UserWarning: The sample size is larger than the number of data points in the background set. Reducing the sample size to the number of background samples.\n",
      "  self.init_background(self.data)\n",
      "/Users/samuelhutt/Developer/sep_mlai/sep-aiml-25/.venv/lib/python3.13/site-packages/sklearn/utils/validation.py:2739: UserWarning: X does not have valid feature names, but RandomForestRegressor was fitted with feature names\n",
      "  warnings.warn(\n",
      "/Users/samuelhutt/Developer/sep_mlai/sep-aiml-25/.venv/lib/python3.13/site-packages/sklearn/utils/validation.py:2739: UserWarning: X does not have valid feature names, but RandomForestRegressor was fitted with feature names\n",
      "  warnings.warn(\n",
      "/Users/samuelhutt/Developer/sep_mlai/sep-aiml-25/.venv/lib/python3.13/site-packages/sklearn/utils/validation.py:2739: UserWarning: X does not have valid feature names, but RandomForestRegressor was fitted with feature names\n",
      "  warnings.warn(\n",
      "/Users/samuelhutt/Developer/sep_mlai/sep-aiml-25/.venv/lib/python3.13/site-packages/sklearn/utils/validation.py:2739: UserWarning: X does not have valid feature names, but RandomForestRegressor was fitted with feature names\n",
      "  warnings.warn(\n",
      "/Users/samuelhutt/Developer/sep_mlai/sep-aiml-25/.venv/lib/python3.13/site-packages/sklearn/utils/validation.py:2739: UserWarning: X does not have valid feature names, but RandomForestRegressor was fitted with feature names\n",
      "  warnings.warn(\n",
      "/Users/samuelhutt/Developer/sep_mlai/sep-aiml-25/.venv/lib/python3.13/site-packages/sklearn/utils/validation.py:2739: UserWarning: X does not have valid feature names, but RandomForestRegressor was fitted with feature names\n",
      "  warnings.warn(\n",
      "/Users/samuelhutt/Developer/sep_mlai/sep-aiml-25/.venv/lib/python3.13/site-packages/sklearn/utils/validation.py:2739: UserWarning: X does not have valid feature names, but RandomForestRegressor was fitted with feature names\n",
      "  warnings.warn(\n",
      "/Users/samuelhutt/Developer/sep_mlai/sep-aiml-25/.venv/lib/python3.13/site-packages/sklearn/utils/validation.py:2739: UserWarning: X does not have valid feature names, but RandomForestRegressor was fitted with feature names\n",
      "  warnings.warn(\n",
      "/Users/samuelhutt/Developer/sep_mlai/sep-aiml-25/.venv/lib/python3.13/site-packages/sklearn/utils/validation.py:2739: UserWarning: X does not have valid feature names, but RandomForestRegressor was fitted with feature names\n",
      "  warnings.warn(\n",
      "/Users/samuelhutt/Developer/sep_mlai/sep-aiml-25/.venv/lib/python3.13/site-packages/sklearn/utils/validation.py:2739: UserWarning: X does not have valid feature names, but RandomForestRegressor was fitted with feature names\n",
      "  warnings.warn(\n",
      "/Users/samuelhutt/Developer/sep_mlai/sep-aiml-25/.venv/lib/python3.13/site-packages/sklearn/utils/validation.py:2739: UserWarning: X does not have valid feature names, but RandomForestRegressor was fitted with feature names\n",
      "  warnings.warn(\n",
      "/Users/samuelhutt/Developer/sep_mlai/sep-aiml-25/.venv/lib/python3.13/site-packages/sklearn/utils/validation.py:2739: UserWarning: X does not have valid feature names, but RandomForestRegressor was fitted with feature names\n",
      "  warnings.warn(\n",
      "/Users/samuelhutt/Developer/sep_mlai/sep-aiml-25/.venv/lib/python3.13/site-packages/sklearn/utils/validation.py:2739: UserWarning: X does not have valid feature names, but RandomForestRegressor was fitted with feature names\n",
      "  warnings.warn(\n"
     ]
    },
    {
     "data": {
      "text/plain": [
       "InteractionValues(\n",
       "    index=k-SII, max_order=3, min_order=0, estimated=True, estimation_budget=512,\n",
       "    n_players=12, baseline_value=223.595\n",
       ")"
      ]
     },
     "execution_count": 3,
     "metadata": {},
     "output_type": "execute_result"
    }
   ],
   "source": [
    "from shapiq import Explainer\n",
    "\n",
    "explainer = Explainer(\n",
    "    model=model.predict,\n",
    "    data=X_train.to_numpy(),\n",
    "    index=\"k-SII\",\n",
    "    max_order=3,\n",
    ")\n",
    "\n",
    "# Wir erklären den ersten Datenpunkt aus dem Trainingsset\n",
    "x0 = X_train.to_numpy()[0]\n",
    "interaction_values = explainer.explain(x0, budget=512)\n",
    "interaction_values"
   ]
  },
  {
   "cell_type": "markdown",
   "id": "e9d8efb89f091294",
   "metadata": {},
   "source": [
    "## Koalitionsfindung mit Beam Search\n",
    "\n",
    "Mit den berechneten Interaktionswerten können wir nun nach optimalen Koalitionen suchen.\n",
    "\n",
    "Die Funktion `subset_finding` verwendet eine heuristische Beam Search, um aus allen möglichen Feature-Teilgruppen\n",
    "der Größe `l` die beste und schlechteste Koalition zu finden – also jene mit dem höchsten bzw. niedrigsten\n",
    "aggregierten Interaktionswert.\n",
    "\n",
    "Wir wählen hier eine Koalitionsgröße von `l = 3`, also Teilmengen von jeweils 3 Features.\n"
   ]
  },
  {
   "cell_type": "code",
   "execution_count": 4,
   "id": "dd7fbf5cc05f66c4",
   "metadata": {
    "ExecuteTime": {
     "end_time": "2025-07-18T18:23:22.075595Z",
     "start_time": "2025-07-18T18:23:22.012632Z"
    }
   },
   "outputs": [
    {
     "data": {
      "text/plain": [
       "InteractionValues(\n",
       "    index=k-SII, max_order=3, min_order=3, estimated=True, estimation_budget=None,\n",
       "    n_players=12, baseline_value=223.595\n",
       ")"
      ]
     },
     "execution_count": 4,
     "metadata": {},
     "output_type": "execute_result"
    }
   ],
   "source": [
    "# Import des Koalitionsfindungs-Algorithmus\n",
    "from shapiq_student.subset_finding import subset_finding\n",
    "\n",
    "# Suche nach Koalitionen der Größe 3\n",
    "beam_result = subset_finding(interaction_values=interaction_values, max_size=3)\n",
    "beam_result"
   ]
  },
  {
   "cell_type": "markdown",
   "id": "70fd7affd604168d",
   "metadata": {},
   "source": [
    "## Analyse der gefundenen Koalitionen\n",
    "\n",
    "Die Funktion `subset_finding` liefert zwei Koalitionen:\n",
    "\n",
    "- `s_max`: Die Koalition der Größe `l`, die den höchsten aggregierten Interaktionswert erzielt\n",
    "- `s_min`: Die Koalition mit dem niedrigsten Wert\n",
    "\n",
    "Zusätzlich gibt sie auch die zugehörigen Werte `v_max` und `v_min` zurück.\n",
    "\n",
    "Im Folgenden untersuchen wir die Koalitionen genauer – sowohl in numerischer Form (Index) als auch lesbar mit Spaltennamen.\n"
   ]
  },
  {
   "cell_type": "code",
   "execution_count": 5,
   "id": "a0681d344b86966b",
   "metadata": {
    "ExecuteTime": {
     "end_time": "2025-07-18T18:25:13.236764Z",
     "start_time": "2025-07-18T18:25:13.205830Z"
    }
   },
   "outputs": [
    {
     "name": "stdout",
     "output_type": "stream",
     "text": [
      "Beste Koalition (Index): {1, 2, 4}\n",
      "Schlechteste Koalition (Index): {8, 11, 7}\n",
      "Wert der besten Koalition: 494.598146722589\n",
      "Wert der schlechtesten Koalition: 207.35762451652712\n",
      "Beste Koalition (Namen): {'feel_temp', 'temp', 'windspeed'}\n",
      "Schlechteste Koalition (Namen): {'weekday', 'holiday', 'weather'}\n"
     ]
    }
   ],
   "source": [
    "# Rohausgabe\n",
    "print(\"Beste Koalition (Index):\", beam_result.s_max)\n",
    "print(\"Schlechteste Koalition (Index):\", beam_result.s_min)\n",
    "print(\"Wert der besten Koalition:\", beam_result.v_max)\n",
    "print(\"Wert der schlechtesten Koalition:\", beam_result.v_min)\n",
    "\n",
    "# Lesbare Darstellung mithilfe der Spaltennamen\n",
    "columns = X_train.columns\n",
    "\n",
    "\n",
    "def readable(S: set[int]) -> set[str]:\n",
    "    return {columns[i] for i in S}\n",
    "\n",
    "\n",
    "print(\"Beste Koalition (Namen):\", readable(beam_result.s_max))\n",
    "print(\"Schlechteste Koalition (Namen):\", readable(beam_result.s_min))"
   ]
  },
  {
   "cell_type": "markdown",
   "id": "be302d53698e8d0e",
   "metadata": {},
   "source": [
    "## Vergleich mit Brute-Force\n",
    "\n",
    "Um die Qualität der gefundenen Koalitionen zu bewerten, vergleichen wir das Ergebnis der heuristischen Beam-Search\n",
    "(`subset_finding`) mit dem exakten Brute-Force-Verfahren.\n",
    "\n",
    "Brute-Force durchsucht **alle möglichen Koalitionen der Größe `l`** und wählt exakt die mit dem höchsten bzw. niedrigsten Wert aus.\n",
    "Da dieser Ansatz exponentiell skaliert, ist er nur für kleine Feature-Anzahlen praktikabel – eignet sich aber ideal zur Verifikation.\n"
   ]
  },
  {
   "cell_type": "code",
   "execution_count": 7,
   "id": "90ce689726d3310c",
   "metadata": {
    "ExecuteTime": {
     "end_time": "2025-07-18T18:38:14.596749Z",
     "start_time": "2025-07-18T18:38:14.511007Z"
    }
   },
   "outputs": [
    {
     "name": "stdout",
     "output_type": "stream",
     "text": [
      "Beam Search:\n",
      "  Beste Koalition : {temp, feel_temp, windspeed} → 494.5981\n",
      "  Schlechteste    : {weekday, weather, holiday} → 207.3576\n",
      "  Laufzeit        : 0.0050 Sekunden\n",
      "\n",
      "Brute-Force:\n",
      "  Beste Koalition : {temp, feel_temp, windspeed} → 494.5981\n",
      "  Schlechteste    : {weekday, weather, holiday} → 207.3576\n",
      "  Laufzeit        : 0.0600 Sekunden\n"
     ]
    }
   ],
   "source": [
    "# Import für die Laufzeitmessung\n",
    "import time\n",
    "\n",
    "# Import des Brute-Force-Vergleichs und Bewertungsfunktion\n",
    "from shapiq_student.brute_force import brute_force_find_extrema\n",
    "from shapiq_student.evaluation import evaluate_interaction_coalition\n",
    "\n",
    "# Vorbereitung: Feature-Indizes, Interaktionswerte und Spaltennamen\n",
    "features = list(range(interaction_values.n_players))\n",
    "interactions = interaction_values.dict_values\n",
    "columns = X_train.columns  # für lesbare Koalitionsnamen\n",
    "\n",
    "\n",
    "# Bewertungsfunktion für Koalitionen\n",
    "def evaluate(S: set[int], e: dict[tuple[int, ...], float]) -> float:\n",
    "    return evaluate_interaction_coalition(S, e, max_order=3)\n",
    "\n",
    "\n",
    "# Hilfsfunktion zur Darstellung von Koalitionen mit Namen\n",
    "def readable(S: set[int]) -> str:\n",
    "    return \"{\" + \", \".join(columns[i] for i in S) + \"}\"\n",
    "\n",
    "\n",
    "# Beam Search mit Zeitmessung\n",
    "start_beam = time.perf_counter()\n",
    "beam_result = subset_finding(interaction_values=interaction_values, max_size=3)\n",
    "end_beam = time.perf_counter()\n",
    "beam_time = end_beam - start_beam\n",
    "\n",
    "# Brute-Force mit Zeitmessung\n",
    "start_brute = time.perf_counter()\n",
    "S_max_b, val_max_b = brute_force_find_extrema(features, interactions, evaluate, size=3, mode=\"max\")\n",
    "S_min_b, val_min_b = brute_force_find_extrema(features, interactions, evaluate, size=3, mode=\"min\")\n",
    "end_brute = time.perf_counter()\n",
    "brute_time = end_brute - start_brute\n",
    "\n",
    "# Vergleichsausgabe\n",
    "print(\"Beam Search:\")\n",
    "print(f\"  Beste Koalition : {readable(beam_result.s_max)} → {beam_result.v_max:.4f}\")\n",
    "print(f\"  Schlechteste    : {readable(beam_result.s_min)} → {beam_result.v_min:.4f}\")\n",
    "print(f\"  Laufzeit        : {beam_time:.4f} Sekunden\\n\")\n",
    "\n",
    "print(\"Brute-Force:\")\n",
    "print(f\"  Beste Koalition : {readable(S_max_b)} → {val_max_b:.4f}\")\n",
    "print(f\"  Schlechteste    : {readable(S_min_b)} → {val_min_b:.4f}\")\n",
    "print(f\"  Laufzeit        : {brute_time:.4f} Sekunden\")"
   ]
  },
  {
   "cell_type": "markdown",
   "id": "d20631f65d071731",
   "metadata": {},
   "source": [
    "## Fazit\n",
    "\n",
    "In diesem Notebook haben wir demonstriert, wie sich mit dem Algorithmus `subset_finding` auf Basis von Beam Search\n",
    "optimale Feature-Koalitionen identifizieren lassen.\n",
    "\n",
    "Der Algorithmus erlaubt es, für eine gegebene Koalitionsgröße `l` effizient diejenige Teilmenge von Features zu finden,\n",
    "die den höchsten bzw. niedrigsten aggregierten Interaktionswert besitzt. Dies erfolgt heuristisch und ist besonders bei\n",
    "größeren Feature-Räumen deutlich schneller als eine vollständige Brute-Force-Suche.\n",
    "\n",
    "Ein direkter Vergleich mit dem exakten Brute-Force-Verfahren zeigt, dass die Beam Search sehr gute Näherungen liefert –\n",
    "bei einem Bruchteil der Laufzeit. Damit eignet sich der Ansatz insbesondere für praxisnahe Anwendungen, bei denen\n",
    "Interpretierbarkeit und Skalierbarkeit gleichzeitig wichtig sind.\n",
    "\n",
    "Der Algorithmus lässt sich flexibel auf Interaktionen höherer Ordnung anwenden und stellt eine leistungsfähige Erweiterung\n",
    "zur Analyse modellbasierter Erklärungen dar.\n"
   ]
  }
 ],
 "metadata": {
  "kernelspec": {
   "display_name": "Python 3",
   "language": "python",
   "name": "python3"
  },
  "language_info": {
   "codemirror_mode": {
    "name": "ipython",
    "version": 2
   },
   "file_extension": ".py",
   "mimetype": "text/x-python",
   "name": "python",
   "nbconvert_exporter": "python",
   "pygments_lexer": "ipython2",
   "version": "2.7.6"
  }
 },
 "nbformat": 4,
 "nbformat_minor": 5
}
