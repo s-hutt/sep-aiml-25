{
 "cells": [
  {
   "cell_type": "markdown",
   "id": "0b1eee98",
   "metadata": {},
   "source": [
    "# Laufzeitanalyse: SHAP vs SHAPIQ\n",
    "\n",
    "Dieses Notebook vergleicht verschiedene Approximationsverfahren zur Berechnung von Shapley-Werten.\n",
    "\n",
    "# Ziel\n",
    "Analyse von:\n",
    "- Laufzeit (x-Achse)\n",
    "- Approximationsgenauigkeit (L1 & L2 Fehler) gegenüber Referenzwerten\n",
    "\n",
    "# Verglichene Methoden\n",
    "| Bibliothek | Methode                  |\n",
    "|------------|--------------------------|\n",
    "| `shapiq`   | KernelSHAP, SVARM, PermutationSamplingSV |\n",
    "| `shap`     | KernelExplainer, PermutationExplainer    |\n",
    "\n",
    "# Datensätze\n",
    "- Bike Sharing\n",
    "- California Housing\n",
    "\n",
    "# Modelle\n",
    "- Lineare Regression\n",
    "- Random Forest Regressor"
   ]
  },
  {
   "cell_type": "markdown",
   "id": "67f93473",
   "metadata": {},
   "source": [
    "Imports & Einstellungen"
   ]
  },
  {
   "cell_type": "code",
   "id": "1152e847",
   "metadata": {
    "ExecuteTime": {
     "end_time": "2025-07-20T18:48:59.703793Z",
     "start_time": "2025-07-20T18:48:58.555718Z"
    }
   },
   "source": [
    "import shapiq\n",
    "import seaborn as sns\n",
    "import pandas as pd\n",
    "import numpy as np\n",
    "from sklearn.model_selection import train_test_split\n",
    "from sklearn.preprocessing import StandardScaler\n",
    "from sklearn.ensemble import RandomForestRegressor\n",
    "from sklearn.linear_model import LinearRegression\n",
    "import shap\n",
    "from shapiq import TabularExplainer\n",
    "import time\n",
    "import matplotlib.pyplot as plt\n",
    "from tqdm import tqdm\n",
    "\n",
    "sns.set(style=\"whitegrid\")\n",
    "plt.rcParams[\"figure.figsize\"] = (12, 7)\n",
    "\n",
    "import random\n",
    "np.random.seed(42)\n",
    "random.seed(42)\n",
    "\n"
   ],
   "outputs": [],
   "execution_count": 1
  },
  {
   "cell_type": "markdown",
   "id": "d033f3f8",
   "metadata": {},
   "source": [
    "Daten vorbereiten & subsample Background (für schnellere Laufzeiten)"
   ]
  },
  {
   "cell_type": "code",
   "id": "7188ab98",
   "metadata": {
    "ExecuteTime": {
     "end_time": "2025-07-20T18:48:59.772808Z",
     "start_time": "2025-07-20T18:48:59.707470Z"
    }
   },
   "source": [
    "# --- Daten laden und vorverarbeiten ---\n",
    "\n",
    "X_bike, y_bike = shapiq.datasets.load_bike_sharing()\n",
    "X_cal, y_cal = shapiq.datasets.load_california_housing()\n",
    "\n",
    "print(\"Bike Sharing - X shape:\", X_bike.shape, \"y shape:\", y_bike.shape)\n",
    "print(\"California Housing - X shape:\", X_cal.shape, \"y shape:\", y_cal.shape)\n",
    "\n",
    "def preprocess_data(X, y, categorical_cols=None, sample_size=None):\n",
    "    if isinstance(X, pd.DataFrame):\n",
    "        if categorical_cols is not None:\n",
    "            X_processed = pd.get_dummies(X, columns=categorical_cols, drop_first=True)\n",
    "        else:\n",
    "            cat_cols = X.select_dtypes(include=['category', 'object']).columns.tolist()\n",
    "            X_processed = pd.get_dummies(X, columns=cat_cols, drop_first=True)\n",
    "    else:\n",
    "        X_processed = pd.DataFrame(X)\n",
    "    \n",
    "    y_processed = pd.Series(y) if not isinstance(y, pd.Series) else y\n",
    "    \n",
    "    if sample_size is not None and len(X_processed) > sample_size:\n",
    "        sampled_indices = X_processed.sample(n=sample_size, random_state=42).index\n",
    "        X_processed = X_processed.loc[sampled_indices].reset_index(drop=True)\n",
    "        y_processed = y_processed.loc[sampled_indices].reset_index(drop=True)\n",
    "    else:\n",
    "        X_processed = X_processed.reset_index(drop=True)\n",
    "        y_processed = y_processed.reset_index(drop=True)\n",
    "    \n",
    "    return X_processed, y_processed\n",
    "\n",
    "bike_categorical_cols = ['season', 'weather']\n",
    "\n",
    "X_bike_proc, y_bike_proc = preprocess_data(X_bike, y_bike, categorical_cols=bike_categorical_cols)\n",
    "X_cal_proc, y_cal_proc = preprocess_data(X_cal, y_cal)\n",
    "\n",
    "sample_fraction = 0.1\n",
    "\n",
    "X_bike_proc_sampled = X_bike_proc.sample(frac=sample_fraction, random_state=42)\n",
    "y_bike_proc_sampled = y_bike_proc.loc[X_bike_proc_sampled.index]\n",
    "\n",
    "X_cal_proc_sampled = X_cal_proc.sample(frac=sample_fraction, random_state=42)\n",
    "y_cal_proc_sampled = y_cal_proc.loc[X_cal_proc_sampled.index]\n",
    "\n",
    "print(\"Sampled preprocessed Bike Sharing shape:\", X_bike_proc_sampled.shape)\n",
    "print(\"Sampled preprocessed California Housing shape:\", X_cal_proc_sampled.shape)"
   ],
   "outputs": [
    {
     "name": "stdout",
     "output_type": "stream",
     "text": [
      "Bike Sharing - X shape: (17379, 12) y shape: (17379,)\n",
      "California Housing - X shape: (20640, 8) y shape: (20640,)\n",
      "Sampled preprocessed Bike Sharing shape: (1738, 16)\n",
      "Sampled preprocessed California Housing shape: (2064, 8)\n"
     ]
    }
   ],
   "execution_count": 2
  },
  {
   "cell_type": "markdown",
   "id": "97df289d",
   "metadata": {},
   "source": [
    "Modelle trainieren"
   ]
  },
  {
   "cell_type": "code",
   "id": "42226904",
   "metadata": {
    "ExecuteTime": {
     "end_time": "2025-07-20T18:49:01.406353Z",
     "start_time": "2025-07-20T18:48:59.904739Z"
    }
   },
   "source": [
    "# --- Train-Test Split ---\n",
    "\n",
    "Xb_train, Xb_test, yb_train, yb_test = train_test_split(\n",
    "    X_bike_proc_sampled, y_bike_proc_sampled, test_size=0.2, random_state=42\n",
    ")\n",
    "Xc_train, Xc_test, yc_train, yc_test = train_test_split(\n",
    "    X_cal_proc_sampled, y_cal_proc_sampled, test_size=0.2, random_state=42\n",
    ")\n",
    "\n",
    "# --- Modelle trainieren ---\n",
    "\n",
    "model_bike_rf = RandomForestRegressor(random_state=42)\n",
    "model_bike_rf.fit(Xb_train, yb_train)\n",
    "print(\"Bike Sharing RandomForestRegressor trainiert.\")\n",
    "\n",
    "model_cal_rf = RandomForestRegressor(random_state=42)\n",
    "model_cal_rf.fit(Xc_train, yc_train)\n",
    "print(\"California Housing RandomForestRegressor trainiert.\")\n",
    "\n",
    "model_bike_lr = LinearRegression()\n",
    "model_bike_lr.fit(Xb_train, yb_train)\n",
    "print(\"Bike Sharing LinearRegression trainiert.\")\n",
    "\n",
    "model_cal_lr = LinearRegression()\n",
    "model_cal_lr.fit(Xc_train, yc_train)\n",
    "print(\"California Housing LinearRegression trainiert.\")\n",
    "\n",
    "# --- Wrapper Funktion für sauberes predict mit Feature-Namen ---\n",
    "\n",
    "def model_predict_wrapper(model, feature_names):\n",
    "    def predict(X):\n",
    "        if not isinstance(X, pd.DataFrame):\n",
    "            X = pd.DataFrame(X, columns=feature_names)\n",
    "        return model.predict(X)\n",
    "    return predict\n",
    "\n",
    "# Feature-Namen\n",
    "feature_names_bike = X_bike_proc_sampled.columns.tolist()\n",
    "feature_names_cal = X_cal_proc_sampled.columns.tolist()\n",
    "\n",
    "n_features_bike = X_bike_proc_sampled.shape[1]\n",
    "n_features_cal = X_cal_proc_sampled.shape[1]\n",
    "\n",
    "print(f\"Number of features in bike dataset: {n_features_bike}\")\n",
    "print(f\"Number of features in cal dataset: {n_features_cal}\")\n"
   ],
   "outputs": [
    {
     "name": "stdout",
     "output_type": "stream",
     "text": [
      "Bike Sharing RandomForestRegressor trainiert.\n",
      "California Housing RandomForestRegressor trainiert.\n",
      "Bike Sharing LinearRegression trainiert.\n",
      "California Housing LinearRegression trainiert.\n",
      "Number of features in bike dataset: 16\n",
      "Number of features in cal dataset: 8\n"
     ]
    }
   ],
   "execution_count": 3
  },
  {
   "cell_type": "code",
   "id": "10743980",
   "metadata": {
    "ExecuteTime": {
     "end_time": "2025-07-20T18:49:01.435350Z",
     "start_time": "2025-07-20T18:49:01.431883Z"
    }
   },
   "source": [
    "import shapiq.explainer\n",
    "\n",
    "print(dir(shapiq.explainer))"
   ],
   "outputs": [
    {
     "name": "stdout",
     "output_type": "stream",
     "text": [
      "['AgnosticExplainer', 'Explainer', 'TabPFNExplainer', 'TabularExplainer', 'TreeExplainer', '__all__', '__builtins__', '__cached__', '__doc__', '__file__', '__loader__', '__name__', '__package__', '__path__', '__spec__', 'agnostic', 'base', 'configuration', 'custom_types', 'tabpfn', 'tabular', 'tree', 'utils', 'validation']\n"
     ]
    }
   ],
   "execution_count": 4
  },
  {
   "cell_type": "code",
   "id": "382a3a60",
   "metadata": {
    "ExecuteTime": {
     "end_time": "2025-07-20T18:49:01.463204Z",
     "start_time": "2025-07-20T18:49:01.459600Z"
    }
   },
   "source": [
    "import shapiq.explainer.tabular\n",
    "\n",
    "print(dir(shapiq.explainer.tabular))"
   ],
   "outputs": [
    {
     "name": "stdout",
     "output_type": "stream",
     "text": [
      "['Any', 'Explainer', 'ExplainerIndices', 'InteractionValues', 'Literal', 'TYPE_CHECKING', 'TabularExplainer', 'TabularExplainerApproximators', 'TabularExplainerImputers', 'TabularExplainerIndices', '__builtins__', '__cached__', '__doc__', '__file__', '__loader__', '__name__', '__package__', '__spec__', 'annotations', 'finalize_computed_interactions', 'overrides', 'setup_approximator', 'warn']\n"
     ]
    }
   ],
   "execution_count": 5
  },
  {
   "cell_type": "code",
   "id": "b8d3bda3",
   "metadata": {
    "ExecuteTime": {
     "end_time": "2025-07-20T18:49:01.494443Z",
     "start_time": "2025-07-20T18:49:01.491035Z"
    }
   },
   "source": [
    "from shapiq.explainer.tabular import TabularExplainerApproximators\n",
    "\n",
    "print(TabularExplainerApproximators)"
   ],
   "outputs": [
    {
     "name": "stdout",
     "output_type": "stream",
     "text": [
      "typing.Literal['spex', 'montecarlo', 'svarm', 'permutation', 'regression']\n"
     ]
    }
   ],
   "execution_count": 6
  },
  {
   "cell_type": "code",
   "id": "33c90bf7",
   "metadata": {
    "ExecuteTime": {
     "end_time": "2025-07-20T18:49:10.559930Z",
     "start_time": "2025-07-20T18:49:01.523521Z"
    }
   },
   "source": [
    "# Hintergrunddaten\n",
    "sample_size = 100\n",
    "background_bike_df = X_bike_proc_sampled.sample(n=sample_size, random_state=42).reset_index(drop=True)\n",
    "background_cal_df = X_cal_proc_sampled.sample(n=sample_size, random_state=42).reset_index(drop=True)\n",
    "\n",
    "background_bike_np = background_bike_df.to_numpy()\n",
    "background_cal_np = background_cal_df.to_numpy()\n",
    "\n",
    "# Wrapped Predict Funktionen\n",
    "wrapped_predict_bike_rf = model_predict_wrapper(model_bike_rf, feature_names_bike)\n",
    "wrapped_predict_cal_rf = model_predict_wrapper(model_cal_rf, feature_names_cal)\n",
    "wrapped_predict_bike_lr = model_predict_wrapper(model_bike_lr, feature_names_bike)\n",
    "wrapped_predict_cal_lr = model_predict_wrapper(model_cal_lr, feature_names_cal)\n",
    "\n",
    "# --- shapiq Explainer ---\n",
    "\n",
    "# Bike RF\n",
    "explainer_shapiq_spex_bike_rf = shapiq.TabularExplainer(wrapped_predict_bike_rf, background_bike_np, approximator=\"spex\", sample_size=sample_size)\n",
    "explainer_shapiq_svarm_bike_rf = shapiq.TabularExplainer(wrapped_predict_bike_rf, background_bike_np, approximator=\"svarm\", sample_size=sample_size)\n",
    "explainer_shapiq_perm_bike_rf = shapiq.TabularExplainer(wrapped_predict_bike_rf, background_bike_np, approximator=\"permutation\", sample_size=sample_size)\n",
    "\n",
    "# Cal RF\n",
    "explainer_shapiq_spex_cal_rf = shapiq.TabularExplainer(wrapped_predict_cal_rf, background_cal_np, approximator=\"spex\", sample_size=sample_size)\n",
    "explainer_shapiq_svarm_cal_rf = shapiq.TabularExplainer(wrapped_predict_cal_rf, background_cal_np, approximator=\"svarm\", sample_size=sample_size)\n",
    "explainer_shapiq_perm_cal_rf = shapiq.TabularExplainer(wrapped_predict_cal_rf, background_cal_np, approximator=\"permutation\", sample_size=sample_size)\n",
    "\n",
    "# Bike LR\n",
    "explainer_shapiq_spex_bike_lr = shapiq.TabularExplainer(wrapped_predict_bike_lr, background_bike_np, approximator=\"spex\", sample_size=sample_size)\n",
    "explainer_shapiq_svarm_bike_lr = shapiq.TabularExplainer(wrapped_predict_bike_lr, background_bike_np, approximator=\"svarm\", sample_size=sample_size)\n",
    "explainer_shapiq_perm_bike_lr = shapiq.TabularExplainer(wrapped_predict_bike_lr, background_bike_np, approximator=\"permutation\", sample_size=sample_size)\n",
    "\n",
    "# Cal LR\n",
    "explainer_shapiq_spex_cal_lr = shapiq.TabularExplainer(wrapped_predict_cal_lr, background_cal_np, approximator=\"spex\", sample_size=sample_size)\n",
    "explainer_shapiq_svarm_cal_lr = shapiq.TabularExplainer(wrapped_predict_cal_lr, background_cal_np, approximator=\"svarm\", sample_size=sample_size)\n",
    "explainer_shapiq_perm_cal_lr = shapiq.TabularExplainer(wrapped_predict_cal_lr, background_cal_np, approximator=\"permutation\", sample_size=sample_size)\n",
    "\n",
    "# --- shap KernelExplainer (Referenz-Explainer) ---\n",
    "\n",
    "explainer_shap_kernel_bike_rf = shap.KernelExplainer(wrapped_predict_bike_rf, background_bike_df, feature_names=feature_names_bike)\n",
    "explainer_shap_kernel_cal_rf = shap.KernelExplainer(wrapped_predict_cal_rf, background_cal_df, feature_names=feature_names_cal)\n",
    "explainer_shap_kernel_bike_lr = shap.KernelExplainer(wrapped_predict_bike_lr, background_bike_df, feature_names=feature_names_bike)\n",
    "explainer_shap_kernel_cal_lr = shap.KernelExplainer(wrapped_predict_cal_lr, background_cal_df, feature_names=feature_names_cal)\n",
    "\n",
    "print(\"Alle Explainer (shapiq + shap) erfolgreich initialisiert.\")\n"
   ],
   "outputs": [
    {
     "name": "stdout",
     "output_type": "stream",
     "text": [
      "Alle Explainer (shapiq + shap) erfolgreich initialisiert.\n"
     ]
    }
   ],
   "execution_count": 7
  },
  {
   "cell_type": "code",
   "id": "049dd28a",
   "metadata": {
    "ExecuteTime": {
     "end_time": "2025-07-20T18:49:10.598218Z",
     "start_time": "2025-07-20T18:49:10.591388Z"
    }
   },
   "source": [
    "def l1_error(a, b):\n",
    "    return np.mean(np.abs(a - b))\n",
    "\n",
    "def l2_error(a, b):\n",
    "    return np.mean((a - b) ** 2)\n",
    "\n",
    "def benchmark_shap_explainers(explainers, X, ref_shap_values, budget=65536):\n",
    "    import time\n",
    "    import numpy as np\n",
    "    results = []\n",
    "    n_samples = X.shape[0]\n",
    "    n_features = X.shape[1]\n",
    "\n",
    "    for name, explainer in explainers.items():\n",
    "        print(f\"→ Benchmarking: {name}\")\n",
    "        try:\n",
    "            start = time.time()\n",
    "            shap_values = explainer.explain(X, budget=budget)\n",
    "            duration = time.time() - start\n",
    "            \n",
    "            shap_values = np.array(shap_values)\n",
    "\n",
    "            # Falls 1D-Array, auf (n_samples, n_features) reshapen\n",
    "            if shap_values.ndim == 1 and shap_values.shape[0] == n_samples * n_features:\n",
    "                shap_values = shap_values.reshape(n_samples, n_features)\n",
    "            elif shap_values.ndim != 2:\n",
    "                raise ValueError(f\"Unerwartete Form der Shapley-Werte: {shap_values.shape}\")\n",
    "\n",
    "            # Vergleich mit Referenz: L2 Fehler\n",
    "            l2_error = np.linalg.norm(shap_values - ref_shap_values)\n",
    "\n",
    "            results.append({\n",
    "                \"method\": name,\n",
    "                \"l2_error\": l2_error,\n",
    "                \"duration_sec\": duration,\n",
    "            })\n",
    "        except Exception as e:\n",
    "            print(f\"[Fehler bei {name}]: {e}\")\n",
    "            results.append({\n",
    "                \"method\": name,\n",
    "                \"l2_error\": np.nan,\n",
    "                \"duration_sec\": np.nan\n",
    "            })\n",
    "\n",
    "    return pd.DataFrame(results)\n"
   ],
   "outputs": [],
   "execution_count": 8
  },
  {
   "cell_type": "markdown",
   "id": "c1272d59",
   "metadata": {},
   "source": [
    "shapley"
   ]
  },
  {
   "cell_type": "code",
   "id": "b3ed62ad",
   "metadata": {
    "ExecuteTime": {
     "end_time": "2025-07-20T18:50:24.237502Z",
     "start_time": "2025-07-20T18:49:10.627911Z"
    }
   },
   "source": [
    "def timeit(func, *args, **kwargs):\n",
    "    import time\n",
    "    start_time = time.time()\n",
    "    result = func(*args, **kwargs)\n",
    "    duration = time.time() - start_time\n",
    "    return result, duration\n",
    "\n",
    "ref_sample_size = 50\n",
    "\n",
    "print(\"Berechne Referenz-Shapley-Werte (KernelExplainer)...\")\n",
    "\n",
    "ref_shap_bike_rf, _ = timeit(\n",
    "    lambda: np.array(explainer_shap_kernel_bike_rf.shap_values(X_bike_proc_sampled.iloc[:ref_sample_size]))\n",
    ")\n",
    "\n",
    "ref_shap_cal_rf, _ = timeit(\n",
    "    lambda: np.array(explainer_shap_kernel_cal_rf.shap_values(X_cal_proc_sampled.iloc[:ref_sample_size]))\n",
    ")\n",
    "\n",
    "ref_shap_bike_lr, _ = timeit(\n",
    "    lambda: np.array(explainer_shap_kernel_bike_lr.shap_values(X_bike_proc_sampled.iloc[:ref_sample_size]))\n",
    ")\n",
    "\n",
    "ref_shap_cal_lr, _ = timeit(\n",
    "    lambda: np.array(explainer_shap_kernel_cal_lr.shap_values(X_cal_proc_sampled.iloc[:ref_sample_size]))\n",
    ")\n"
   ],
   "outputs": [
    {
     "name": "stdout",
     "output_type": "stream",
     "text": [
      "Berechne Referenz-Shapley-Werte (KernelExplainer)...\n"
     ]
    },
    {
     "data": {
      "text/plain": [
       "  0%|          | 0/50 [00:00<?, ?it/s]"
      ],
      "application/vnd.jupyter.widget-view+json": {
       "version_major": 2,
       "version_minor": 0,
       "model_id": "2903a394fe3f42b6a44f792506a4e9e1"
      }
     },
     "metadata": {},
     "output_type": "display_data"
    },
    {
     "data": {
      "text/plain": [
       "  0%|          | 0/50 [00:00<?, ?it/s]"
      ],
      "application/vnd.jupyter.widget-view+json": {
       "version_major": 2,
       "version_minor": 0,
       "model_id": "f1c3c8c47f7243239b7a5f50c88fdd68"
      }
     },
     "metadata": {},
     "output_type": "display_data"
    },
    {
     "data": {
      "text/plain": [
       "  0%|          | 0/50 [00:00<?, ?it/s]"
      ],
      "application/vnd.jupyter.widget-view+json": {
       "version_major": 2,
       "version_minor": 0,
       "model_id": "af373e08c3104e1eb1d07d0846906cd1"
      }
     },
     "metadata": {},
     "output_type": "display_data"
    },
    {
     "data": {
      "text/plain": [
       "  0%|          | 0/50 [00:00<?, ?it/s]"
      ],
      "application/vnd.jupyter.widget-view+json": {
       "version_major": 2,
       "version_minor": 0,
       "model_id": "f6140c0c39f74a77b801cebc68ecd8bd"
      }
     },
     "metadata": {},
     "output_type": "display_data"
    }
   ],
   "execution_count": 9
  },
  {
   "cell_type": "code",
   "id": "af8d58d7",
   "metadata": {
    "jupyter": {
     "is_executing": true
    },
    "ExecuteTime": {
     "start_time": "2025-07-20T18:50:24.311189Z"
    }
   },
   "source": [
    "def validate_shapes(ref_dict, n_expected, n_features_expected):\n",
    "    print(\"Starte Validierung...\")\n",
    "\n",
    "    for name, arr in ref_dict.items():\n",
    "        print(f\"→ {name}\")\n",
    "        if arr is None:\n",
    "            print(\"  Fehler: None\")\n",
    "            continue\n",
    "        if isinstance(arr, list):\n",
    "            arr = np.array(arr)\n",
    "        if arr.dtype == \"object\":\n",
    "            print(\"  Fehler: dtype=object\")\n",
    "        if np.isnan(arr).any():\n",
    "            print(\"  Fehler: NaN enthalten\")\n",
    "        if len(arr.shape) != 2:\n",
    "            print(f\"  Fehler: Nicht 2D (shape={arr.shape})\")\n",
    "        elif arr.shape[0] != n_expected:\n",
    "            print(f\"  Warnung: {arr.shape[0]} Zeilen, erwartet: {n_expected}\")\n",
    "        elif arr.shape[1] != n_features_expected:\n",
    "            print(f\"  Warnung: {arr.shape[1]} Features, erwartet: {n_features_expected}\")\n",
    "        else:\n",
    "            print(f\"  OK: shape={arr.shape}, dtype={arr.dtype}\")\n",
    "\n",
    "validate_shapes(\n",
    "    {\n",
    "        \"ref_shap_bike_rf\": ref_shap_bike_rf,\n",
    "        \"ref_shap_bike_lr\": ref_shap_bike_lr,\n",
    "    },\n",
    "    n_expected=ref_sample_size,\n",
    "    n_features_expected=X_bike_proc_sampled.shape[1]\n",
    ")\n",
    "\n",
    "validate_shapes(\n",
    "    {\n",
    "        \"ref_shap_cal_rf\": ref_shap_cal_rf,\n",
    "        \"ref_shap_cal_lr\": ref_shap_cal_lr,\n",
    "    },\n",
    "    n_expected=ref_sample_size,\n",
    "    n_features_expected=X_cal_proc_sampled.shape[1]\n",
    ")\n",
    "\n",
    "# --- Explainer-Dictionaries ---\n",
    "explainers_bike_rf = {\n",
    "    \"shapiq_spex\": explainer_shapiq_spex_bike_rf,\n",
    "    \"shapiq_svarm\": explainer_shapiq_svarm_bike_rf,\n",
    "    \"shapiq_perm\": explainer_shapiq_perm_bike_rf,\n",
    "}\n",
    "\n",
    "explainers_cal_rf = {\n",
    "    \"shapiq_spex\": explainer_shapiq_spex_cal_rf,\n",
    "    \"shapiq_svarm\": explainer_shapiq_svarm_cal_rf,\n",
    "    \"shapiq_perm\": explainer_shapiq_perm_cal_rf,\n",
    "}\n",
    "\n",
    "explainers_bike_lr = {\n",
    "    \"shapiq_spex\": explainer_shapiq_spex_bike_lr,\n",
    "    \"shapiq_svarm\": explainer_shapiq_svarm_bike_lr,\n",
    "    \"shapiq_perm\": explainer_shapiq_perm_bike_lr,\n",
    "}\n",
    "\n",
    "explainers_cal_lr = {\n",
    "    \"shapiq_spex\": explainer_shapiq_spex_cal_lr,\n",
    "    \"shapiq_svarm\": explainer_shapiq_svarm_cal_lr,\n",
    "    \"shapiq_perm\": explainer_shapiq_perm_cal_lr,\n",
    "}\n",
    "\n",
    "# --- Benchmark ---\n",
    "print(\"Benchmark: Bike Sharing - RandomForest\")\n",
    "results_bike_rf = benchmark_shap_explainers(explainers_bike_rf, X_bike_proc_sampled, ref_shap_bike_rf)\n",
    "\n",
    "print(\"Benchmark: California Housing - RandomForest\")\n",
    "results_cal_rf = benchmark_shap_explainers(explainers_cal_rf, X_cal_proc_sampled, ref_shap_cal_rf)\n",
    "\n",
    "print(\"Benchmark: Bike Sharing - LinearRegression\")\n",
    "results_bike_lr = benchmark_shap_explainers(explainers_bike_lr, X_bike_proc_sampled, ref_shap_bike_lr)\n",
    "\n",
    "print(\"Benchmark: California Housing - LinearRegression\")\n",
    "results_cal_lr = benchmark_shap_explainers(explainers_cal_lr, X_cal_proc_sampled, ref_shap_cal_lr)\n",
    "\n",
    "results_dfs = [\n",
    "    df.assign(method=lambda d: d[\"method\"] + \" | Bike-RF\") for df in [results_bike_rf] if not df.empty\n",
    "] + [\n",
    "    df.assign(method=lambda d: d[\"method\"] + \" | Bike-LR\") for df in [results_bike_lr] if not df.empty\n",
    "] + [\n",
    "    df.assign(method=lambda d: d[\"method\"] + \" | Cal-RF\") for df in [results_cal_rf] if not df.empty\n",
    "] + [\n",
    "    df.assign(method=lambda d: d[\"method\"] + \" | Cal-LR\") for df in [results_cal_lr] if not df.empty\n",
    "]\n",
    "\n",
    "df_results = pd.concat(results_dfs, ignore_index=True)\n",
    "\n",
    "# --- Zusammenführen ---\n",
    "results_list = []\n",
    "\n",
    "if not results_bike_rf.empty:\n",
    "    results_list.append(results_bike_rf.assign(method=lambda df: df[\"method\"] + \" | Bike-RF\"))\n",
    "if not results_bike_lr.empty:\n",
    "    results_list.append(results_bike_lr.assign(method=lambda df: df[\"method\"] + \" | Bike-LR\"))\n",
    "if not results_cal_rf.empty:\n",
    "    results_list.append(results_cal_rf.assign(method=lambda df: df[\"method\"] + \" | Cal-RF\"))\n",
    "if not results_cal_lr.empty:\n",
    "    results_list.append(results_cal_lr.assign(method=lambda df: df[\"method\"] + \" | Cal-LR\"))\n",
    "\n",
    "df_results = pd.concat(results_list, ignore_index=True)\n",
    "\n",
    "print(\"Ergebnisse (Beispiel, SVARM):\")\n",
    "display(df_results[df_results[\"method\"].str.contains(\"svarm\")].head(1))\n",
    "\n",
    "print(\"Benchmark abgeschlossen.\")\n"
   ],
   "outputs": [
    {
     "name": "stdout",
     "output_type": "stream",
     "text": [
      "Starte Validierung...\n",
      "→ ref_shap_bike_rf\n",
      "  OK: shape=(50, 16), dtype=float64\n",
      "→ ref_shap_bike_lr\n",
      "  OK: shape=(50, 16), dtype=float64\n",
      "Starte Validierung...\n",
      "→ ref_shap_cal_rf\n",
      "  OK: shape=(50, 8), dtype=float64\n",
      "→ ref_shap_cal_lr\n",
      "  OK: shape=(50, 8), dtype=float64\n",
      "Benchmark: Bike Sharing - RandomForest\n",
      "→ Benchmarking: shapiq_spex\n"
     ]
    }
   ],
   "execution_count": null
  },
  {
   "cell_type": "markdown",
   "id": "4f083dad",
   "metadata": {},
   "source": [
    "Ergebnisse in DataFrame"
   ]
  },
  {
   "cell_type": "markdown",
   "id": "5b9df5f7",
   "metadata": {},
   "source": [
    "Visualisierung (Plotting)"
   ]
  },
  {
   "cell_type": "code",
   "id": "c361d9fe",
   "metadata": {},
   "source": [
    "plt.figure(figsize=(14,6))\n",
    "sns.barplot(data=df_results, x=\"method\", y=\"runtime\", errorbar='sd')\n",
    "plt.xticks(rotation=45, ha=\"right\")\n",
    "plt.title(\"Durchschnittliche Laufzeit je Methode und Datensatz\")\n",
    "plt.ylabel(\"Laufzeit (Sekunden)\")\n",
    "plt.xlabel(\"Methode | Datensatz\")\n",
    "plt.tight_layout()\n",
    "plt.show()\n",
    "\n",
    "plt.figure(figsize=(14,6))\n",
    "sns.boxplot(data=df_results, x=\"method\", y=\"quality\")\n",
    "plt.xticks(rotation=45, ha=\"right\")\n",
    "plt.title(\"Qualitätsfehler (L2-Abweichung) je Methode und Datensatz\")\n",
    "plt.ylabel(\"L2-Abweichung zum Referenz\")\n",
    "plt.xlabel(\"Methode | Datensatz\")\n",
    "plt.tight_layout()\n",
    "plt.show()\n",
    "\n",
    "plt.figure(figsize=(16,8))\n",
    "sns.violinplot(data=df_results, x=\"method\", y=\"runtime\", inner=\"quartile\", color=\"skyblue\")\n",
    "plt.xticks(rotation=45, ha=\"right\")\n",
    "plt.title(\"Verteilung der Laufzeiten je Methode und Datensatz\")\n",
    "plt.ylabel(\"Laufzeit (Sekunden)\")\n",
    "plt.xlabel(\"Methode | Datensatz\")\n",
    "plt.tight_layout()\n",
    "plt.show()\n",
    "\n",
    "plt.figure(figsize=(16,8))\n",
    "sns.violinplot(data=df_results, x=\"method\", y=\"quality\", inner=\"quartile\", color=\"lightcoral\")\n",
    "plt.xticks(rotation=45, ha=\"right\")\n",
    "plt.title(\"Verteilung der Qualitätsfehler (L2) je Methode und Datensatz\")\n",
    "plt.ylabel(\"L2-Abweichung zum Referenz\")\n",
    "plt.xlabel(\"Methode | Datensatz\")\n",
    "plt.tight_layout()\n",
    "plt.show()\n"
   ],
   "outputs": [],
   "execution_count": null
  }
 ],
 "metadata": {
  "kernelspec": {
   "display_name": "shapiq-student",
   "language": "python",
   "name": "python3"
  },
  "language_info": {
   "codemirror_mode": {
    "name": "ipython",
    "version": 3
   },
   "file_extension": ".py",
   "mimetype": "text/x-python",
   "name": "python",
   "nbconvert_exporter": "python",
   "pygments_lexer": "ipython3",
   "version": "3.13.3"
  }
 },
 "nbformat": 4,
 "nbformat_minor": 5
}
